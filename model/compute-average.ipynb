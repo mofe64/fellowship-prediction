{
 "cells": [
  {
   "cell_type": "markdown",
   "metadata": {},
   "source": [
    "# Finding Average Fellow with GitHub REST API\n",
    "This notebook finds the average fellow statistics with the data we fetched data from the [MLH Fellowship Organization](https://github.com/MLH-Fellowship) on GitHub to use for training in our hackathon project.\n",
    "\n",
    "| Attribute | Descrption | Type |\n",
    "|:----|:----|:----:|\n",
    "| Username | GitHub Username | String |\n",
    "| Commits | Number of Total Commits | Integer |\n",
    "| Followers | Number of Followers | Integer |\n",
    "| Repos | Number of Repositories | Integer |\n",
    "| Stars | Number of Stars on Repositories | Integer |\n",
    "| Forks | Number of Forks on Repositories | Integer |\n",
    "| Organizations | Number of Organizations | Integer |\n",
    "| OrganizationNames | Names of Organizations | List of Strings |\n",
    "| Issues | Number of Issues Created | Integer |\n",
    "| Contributions | Number of Contributions | Integer |"
   ]
  },
  {
   "cell_type": "code",
   "execution_count": 1,
   "metadata": {},
   "outputs": [],
   "source": [
    "import json # for JSON file handling"
   ]
  },
  {
   "cell_type": "markdown",
   "metadata": {},
   "source": [
    "### Computing Averages"
   ]
  },
  {
   "cell_type": "code",
   "execution_count": 8,
   "metadata": {},
   "outputs": [],
   "source": [
    "# Computes the averages of data columns\n",
    "def compute_average(data):\n",
    "    res = {}\n",
    "    num_fellows = len(data)\n",
    "    attributes = ['Commits', 'Followers', 'Repos', 'Stars', 'Forks', 'Organizations', 'Issues', 'Contributions']\n",
    "    \n",
    "    for attribute in attributes:\n",
    "        res[attribute] = sum([row[attribute] for row in data]) // num_fellows\n",
    "        \n",
    "    return res"
   ]
  },
  {
   "cell_type": "code",
   "execution_count": 3,
   "metadata": {},
   "outputs": [],
   "source": [
    "with open('full_info.json', 'r') as json_file:\n",
    "    data = json.load(json_file)"
   ]
  },
  {
   "cell_type": "code",
   "execution_count": 6,
   "metadata": {},
   "outputs": [
    {
     "data": {
      "text/plain": [
       "{'Commits': 892,\n",
       " 'Followers': 54,\n",
       " 'Repos': 43,\n",
       " 'Stars': 26,\n",
       " 'Forks': 9,\n",
       " 'Organizations': 1,\n",
       " 'Issues': 104,\n",
       " 'Contributions': 86}"
      ]
     },
     "execution_count": 6,
     "metadata": {},
     "output_type": "execute_result"
    }
   ],
   "source": [
    "averages = compute_average(data)\n",
    "averages"
   ]
  },
  {
   "cell_type": "code",
   "execution_count": 7,
   "metadata": {},
   "outputs": [],
   "source": [
    "# save the list of averages as a json file\n",
    "with open('averages.json', 'w') as json_file:\n",
    "    json.dump(averages, json_file)"
   ]
  },
  {
   "cell_type": "markdown",
   "metadata": {},
   "source": [
    "### Computing Medians"
   ]
  },
  {
   "cell_type": "code",
   "execution_count": 21,
   "metadata": {},
   "outputs": [],
   "source": [
    "# Computes the medians of data columns\n",
    "def compute_median(data):\n",
    "    res = {}\n",
    "    num_fellows = len(data)\n",
    "    median_number = (num_fellows + 1) // 2 \n",
    "    attributes = {key: [] for key in ['Commits', 'Followers', 'Repos', 'Stars', 'Forks', 'Organizations', 'Issues', 'Contributions']}\n",
    "    \n",
    "    # get lists of values\n",
    "    for member in data:\n",
    "        for key in attributes.keys():\n",
    "            attributes[key].append(member[key])\n",
    "    \n",
    "    # sort lists of values\n",
    "    for key in attributes.keys():\n",
    "        attributes[key] = sorted(attributes[key])\n",
    "        \n",
    "    # find medians\n",
    "    for key in attributes.keys():\n",
    "        attributes[key] = attributes[key][median_number]\n",
    "    \n",
    "    \n",
    "    return attributes\n",
    "    "
   ]
  },
  {
   "cell_type": "code",
   "execution_count": 22,
   "metadata": {},
   "outputs": [
    {
     "data": {
      "text/plain": [
       "{'Commits': 410,\n",
       " 'Followers': 16,\n",
       " 'Repos': 28,\n",
       " 'Stars': 4,\n",
       " 'Forks': 2,\n",
       " 'Organizations': 1,\n",
       " 'Issues': 44,\n",
       " 'Contributions': 32}"
      ]
     },
     "execution_count": 22,
     "metadata": {},
     "output_type": "execute_result"
    }
   ],
   "source": [
    "medians = compute_median(data)\n",
    "medians"
   ]
  },
  {
   "cell_type": "code",
   "execution_count": 23,
   "metadata": {},
   "outputs": [],
   "source": [
    "# save the list of medians as a json file\n",
    "with open('medians.json', 'w') as json_file:\n",
    "    json.dump(averages, json_file)"
   ]
  },
  {
   "cell_type": "code",
   "execution_count": null,
   "metadata": {},
   "outputs": [],
   "source": []
  }
 ],
 "metadata": {
  "kernelspec": {
   "display_name": "Python 3",
   "language": "python",
   "name": "python3"
  },
  "language_info": {
   "codemirror_mode": {
    "name": "ipython",
    "version": 3
   },
   "file_extension": ".py",
   "mimetype": "text/x-python",
   "name": "python",
   "nbconvert_exporter": "python",
   "pygments_lexer": "ipython3",
   "version": "3.8.10"
  }
 },
 "nbformat": 4,
 "nbformat_minor": 4
}
